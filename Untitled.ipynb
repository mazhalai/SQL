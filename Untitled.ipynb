{
 "cells": [
  {
   "cell_type": "code",
   "execution_count": 2,
   "metadata": {},
   "outputs": [],
   "source": [
    "import sqlite3"
   ]
  },
  {
   "cell_type": "markdown",
   "metadata": {},
   "source": [
    "set PATH=C:\\sqlite;%PATH%"
   ]
  },
  {
   "cell_type": "markdown",
   "metadata": {},
   "source": [
    "https://www.w3schools.com/sql/\n",
    "https://www.hackerrank.com/domains/sql/select"
   ]
  },
  {
   "cell_type": "markdown",
   "metadata": {},
   "source": [
    "join venn diagram\n",
    "multiple joins at a time\n",
    "with clause vs subquery\n",
    "flavors of sql\n",
    "memory vs cpu\n",
    "duplicates, NULL rows\n",
    "sample window function\n",
    "having"
   ]
  }
 ],
 "metadata": {
  "kernelspec": {
   "display_name": "Python 3",
   "language": "python",
   "name": "python3"
  },
  "language_info": {
   "codemirror_mode": {
    "name": "ipython",
    "version": 3
   },
   "file_extension": ".py",
   "mimetype": "text/x-python",
   "name": "python",
   "nbconvert_exporter": "python",
   "pygments_lexer": "ipython3",
   "version": "3.6.1"
  }
 },
 "nbformat": 4,
 "nbformat_minor": 2
}
